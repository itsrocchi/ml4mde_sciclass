{
 "cells": [
  {
   "cell_type": "code",
   "execution_count": 1,
   "metadata": {},
   "outputs": [],
   "source": [
    "# Step 1: Load and preprocess the data\n",
    "\n",
    "import pandas as pd\n",
    "from sklearn.model_selection import train_test_split, KFold\n",
    "from sklearn.preprocessing import MultiLabelBinarizer\n",
    "from sklearn.feature_extraction.text import TfidfVectorizer\n",
    "from sklearn.linear_model import LogisticRegression\n",
    "from sklearn.metrics import f1_score, accuracy_score\n",
    "from sklearn.ensemble import RandomForestClassifier, GradientBoostingClassifier\n",
    "from sklearn.multiclass import OneVsRestClassifier\n",
    "from sklearn.pipeline import Pipeline\n",
    "from sklearn.model_selection import GridSearchCV\n",
    "import kagglehub\n"
   ]
  },
  {
   "cell_type": "code",
   "execution_count": 2,
   "metadata": {},
   "outputs": [
    {
     "name": "stdout",
     "output_type": "stream",
     "text": [
      "Path to dataset files: /home/lolli/.cache/kagglehub/datasets/shivanandmn/multilabel-classification-dataset/versions/1\n"
     ]
    }
   ],
   "source": [
    "\n",
    "# Download latest version of the dataset\n",
    "path = kagglehub.dataset_download(\"shivanandmn/multilabel-classification-dataset\")\n",
    "\n",
    "print(\"Path to dataset files:\", path)\n",
    "\n",
    "# Load the dataset\n",
    "url_train = f'{path}/train.csv'\n",
    "train_set = pd.read_csv(url_train)\n"
   ]
  },
  {
   "cell_type": "code",
   "execution_count": 3,
   "metadata": {},
   "outputs": [],
   "source": [
    "\n",
    "train_set.drop(columns=['ID'], inplace=True)\n",
    "\n",
    "# Combine the category columns into a list of categories for each paper\n",
    "categories = ['Computer Science', 'Physics', 'Mathematics', 'Statistics', 'Quantitative Biology', 'Quantitative Finance']\n",
    "train_set['Categories'] = train_set[categories].apply(lambda row: [cat for cat in categories if row[cat] == 1], axis=1)\n",
    "\n",
    "# Preprocess the text data\n",
    "train_set['TITLE'] = train_set['TITLE'].str.lower().str.replace(r'[^\\\\w\\\\s]', '').str.replace(r'\\\\d+', '').str.strip()\n",
    "train_set['ABSTRACT'] = train_set['ABSTRACT'].str.lower().str.replace(r'[^\\\\w\\\\s]', '').str.replace(r'\\\\d+', '').str.strip()\n",
    "train_set['TEXT'] = train_set['TITLE'] + ' ' + train_set['ABSTRACT']\n"
   ]
  },
  {
   "cell_type": "code",
   "execution_count": 4,
   "metadata": {},
   "outputs": [],
   "source": [
    "\n",
    "# Binarize the labels\n",
    "mlb = MultiLabelBinarizer()\n",
    "y = mlb.fit_transform(train_set['Categories'])\n",
    "\n",
    "# Vectorize the text data\n",
    "tfidf = TfidfVectorizer(max_features=10000)\n",
    "X = tfidf.fit_transform(train_set['TEXT'])\n"
   ]
  },
  {
   "cell_type": "code",
   "execution_count": 5,
   "metadata": {},
   "outputs": [],
   "source": [
    "\n",
    "# Step 2: Implement a machine learning classifier\n",
    "# Try different classifiers and hyperparameters\n",
    "pipeline = Pipeline([\n",
    "    ('tfidf', TfidfVectorizer(max_features=10000)),\n",
    "    ('clf', OneVsRestClassifier(LogisticRegression()))\n",
    "])\n",
    "\n",
    "parameters = {\n",
    "    'tfidf__max_features': [10000, 20000],\n",
    "    'clf__estimator__C': [0.1, 1, 10],\n",
    "    'clf__estimator__solver': ['lbfgs', 'liblinear']\n",
    "}\n"
   ]
  },
  {
   "cell_type": "code",
   "execution_count": 6,
   "metadata": {},
   "outputs": [
    {
     "name": "stdout",
     "output_type": "stream",
     "text": [
      "Best parameters set found on development set:\n",
      "{'clf__estimator__C': 10, 'clf__estimator__solver': 'lbfgs', 'tfidf__max_features': 20000}\n"
     ]
    }
   ],
   "source": [
    "\n",
    "grid_search = GridSearchCV(pipeline, parameters, cv=5, scoring='f1_micro')\n",
    "grid_search.fit(train_set['TEXT'], y)\n",
    "\n",
    "print(\"Best parameters set found on development set:\")\n",
    "print(grid_search.best_params_)\n"
   ]
  },
  {
   "cell_type": "code",
   "execution_count": 11,
   "metadata": {},
   "outputs": [],
   "source": [
    "# Evaluate the classifier using suitable metrics\n",
    "kf = KFold(n_splits=5, shuffle=True, random_state=42)\n",
    "f1_scores = []\n",
    "accuracy_scores = []"
   ]
  },
  {
   "cell_type": "code",
   "execution_count": 18,
   "metadata": {},
   "outputs": [],
   "source": [
    "X = train_set['TEXT']"
   ]
  },
  {
   "cell_type": "code",
   "execution_count": 19,
   "metadata": {},
   "outputs": [],
   "source": [
    "for train_index, test_index in kf.split(X):\n",
    "    X_train, X_test = X[train_index], X[test_index]\n",
    "    y_train, y_test = y[train_index], y[test_index]\n",
    "    \n",
    "    grid_search.best_estimator_.fit(X_train, y_train)\n",
    "    y_pred = grid_search.best_estimator_.predict(X_test)\n",
    "    \n",
    "    f1_scores.append(f1_score(y_test, y_pred, average='micro'))\n",
    "    accuracy_scores.append(accuracy_score(y_test, y_pred))"
   ]
  },
  {
   "cell_type": "code",
   "execution_count": null,
   "metadata": {},
   "outputs": [],
   "source": []
  },
  {
   "cell_type": "code",
   "execution_count": 20,
   "metadata": {},
   "outputs": [
    {
     "name": "stdout",
     "output_type": "stream",
     "text": [
      "F1 Scores:  [0.8040832351786416, 0.8099271223163286, 0.8148294222046933, 0.8099743741375912, 0.8110306517210594]\n",
      "Accuracy Scores:  [0.6474374255065555, 0.6519666269368296, 0.6587982832618026, 0.6585598474010491, 0.6607057701478303]\n",
      "Average F1 Score:  0.8099689611116627\n",
      "Average Accuracy Score:  0.6554935906508135\n"
     ]
    }
   ],
   "source": [
    "\n",
    "print(\"F1 Scores: \", f1_scores)\n",
    "print(\"Accuracy Scores: \", accuracy_scores)\n",
    "print(\"Average F1 Score: \", sum(f1_scores) / len(f1_scores))\n",
    "print(\"Average Accuracy Score: \", sum(accuracy_scores) / len(accuracy_scores))\n"
   ]
  },
  {
   "cell_type": "code",
   "execution_count": 21,
   "metadata": {},
   "outputs": [],
   "source": [
    "\n",
    "# Load and preprocess the test set\n",
    "test_set = pd.read_csv(f'{path}/test.csv')\n",
    "test_set.drop(columns=['ID'], inplace=True)\n",
    "\n",
    "test_set['TITLE'] = test_set['TITLE'].str.lower().str.replace(r'[^\\\\w\\\\s]', '').str.replace(r'\\\\d+', '').str.strip()\n",
    "test_set['ABSTRACT'] = test_set['ABSTRACT'].str.lower().str.replace(r'[^\\\\w\\\\s]', '').str.replace(r'\\\\d+', '').str.strip()\n",
    "test_set['TEXT'] = test_set['TITLE'] + ' ' + test_set['ABSTRACT']\n"
   ]
  },
  {
   "cell_type": "code",
   "execution_count": 23,
   "metadata": {},
   "outputs": [],
   "source": [
    "\n",
    "X_test = test_set['TEXT']\n",
    "y_pred_test = grid_search.best_estimator_.predict(X_test)\n",
    "y_pred_labels = mlb.inverse_transform(y_pred_test)\n"
   ]
  },
  {
   "cell_type": "code",
   "execution_count": 25,
   "metadata": {},
   "outputs": [
    {
     "data": {
      "text/html": [
       "<div>\n",
       "<style scoped>\n",
       "    .dataframe tbody tr th:only-of-type {\n",
       "        vertical-align: middle;\n",
       "    }\n",
       "\n",
       "    .dataframe tbody tr th {\n",
       "        vertical-align: top;\n",
       "    }\n",
       "\n",
       "    .dataframe thead th {\n",
       "        text-align: right;\n",
       "    }\n",
       "</style>\n",
       "<table border=\"1\" class=\"dataframe\">\n",
       "  <thead>\n",
       "    <tr style=\"text-align: right;\">\n",
       "      <th></th>\n",
       "      <th>TEXT</th>\n",
       "      <th>Categories</th>\n",
       "    </tr>\n",
       "  </thead>\n",
       "  <tbody>\n",
       "    <tr>\n",
       "      <th>0</th>\n",
       "      <td>closed-form marginal likelihood in gamma-poiss...</td>\n",
       "      <td>(Statistics,)</td>\n",
       "    </tr>\n",
       "    <tr>\n",
       "      <th>1</th>\n",
       "      <td>laboratory mid-ir spectra of equilibrated and ...</td>\n",
       "      <td>(Physics,)</td>\n",
       "    </tr>\n",
       "    <tr>\n",
       "      <th>2</th>\n",
       "      <td>case for static amsdu aggregation in wlans fra...</td>\n",
       "      <td>(Computer Science,)</td>\n",
       "    </tr>\n",
       "    <tr>\n",
       "      <th>3</th>\n",
       "      <td>the $gaia$-eso survey: the inner disk intermed...</td>\n",
       "      <td>(Physics,)</td>\n",
       "    </tr>\n",
       "    <tr>\n",
       "      <th>4</th>\n",
       "      <td>witness-functions versus interpretation-functi...</td>\n",
       "      <td>(Computer Science,)</td>\n",
       "    </tr>\n",
       "  </tbody>\n",
       "</table>\n",
       "</div>"
      ],
      "text/plain": [
       "                                                TEXT           Categories\n",
       "0  closed-form marginal likelihood in gamma-poiss...        (Statistics,)\n",
       "1  laboratory mid-ir spectra of equilibrated and ...           (Physics,)\n",
       "2  case for static amsdu aggregation in wlans fra...  (Computer Science,)\n",
       "3  the $gaia$-eso survey: the inner disk intermed...           (Physics,)\n",
       "4  witness-functions versus interpretation-functi...  (Computer Science,)"
      ]
     },
     "execution_count": 25,
     "metadata": {},
     "output_type": "execute_result"
    }
   ],
   "source": [
    "\n",
    "test_set.drop(columns=['TITLE'], inplace=True)\n",
    "test_set.drop(columns=['ABSTRACT'], inplace=True)\n",
    "test_set['Categories'] = y_pred_labels\n",
    "test_set.head()\n"
   ]
  },
  {
   "cell_type": "code",
   "execution_count": 26,
   "metadata": {},
   "outputs": [],
   "source": [
    "\n",
    "# Save the results (only the predicted categories) to a CSV file\n",
    "test_set[['Categories']].to_csv('predicted_categories.csv', index=False)"
   ]
  },
  {
   "cell_type": "code",
   "execution_count": null,
   "metadata": {},
   "outputs": [],
   "source": []
  }
 ],
 "metadata": {
  "kernelspec": {
   "display_name": "Python 3 (ipykernel)",
   "language": "python",
   "name": "python3"
  },
  "language_info": {
   "codemirror_mode": {
    "name": "ipython",
    "version": 3
   },
   "file_extension": ".py",
   "mimetype": "text/x-python",
   "name": "python",
   "nbconvert_exporter": "python",
   "pygments_lexer": "ipython3",
   "version": "3.10.12"
  }
 },
 "nbformat": 4,
 "nbformat_minor": 2
}
